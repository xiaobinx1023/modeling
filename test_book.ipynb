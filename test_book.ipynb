{
 "cells": [
  {
   "cell_type": "code",
   "execution_count": 17,
   "metadata": {},
   "outputs": [
    {
     "name": "stdout",
     "output_type": "stream",
     "text": [
      "Help on function cci in module pandas_ta.momentum.cci:\n",
      "\n",
      "cci(high, low, close, length=None, c=None, talib=None, offset=None, **kwargs)\n",
      "    Commodity Channel Index (CCI)\n",
      "\n",
      "    Commodity Channel Index is a momentum oscillator used to primarily identify\n",
      "    overbought and oversold levels relative to a mean.\n",
      "\n",
      "    Sources:\n",
      "        https://www.tradingview.com/wiki/Commodity_Channel_Index_(CCI)\n",
      "\n",
      "    Calculation:\n",
      "        Default Inputs:\n",
      "            length=14, c=0.015\n",
      "        SMA = Simple Moving Average\n",
      "        MAD = Mean Absolute Deviation\n",
      "        tp = typical_price = hlc3 = (high + low + close) / 3\n",
      "        mean_tp = SMA(tp, length)\n",
      "        mad_tp = MAD(tp, length)\n",
      "        CCI = (tp - mean_tp) / (c * mad_tp)\n",
      "\n",
      "    Args:\n",
      "        high (pd.Series): Series of 'high's\n",
      "        low (pd.Series): Series of 'low's\n",
      "        close (pd.Series): Series of 'close's\n",
      "        length (int): It's period. Default: 14\n",
      "        c (float): Scaling Constant. Default: 0.015\n",
      "        talib (bool): If TA Lib is installed and talib is True, Returns the TA Lib\n",
      "            version. Default: True\n",
      "        offset (int): How many periods to offset the result. Default: 0\n",
      "\n",
      "    Kwargs:\n",
      "        fillna (value, optional): pd.DataFrame.fillna(value)\n",
      "        fill_method (value, optional): Type of fill method\n",
      "\n",
      "    Returns:\n",
      "        pd.Series: New feature generated.\n",
      "\n"
     ]
    }
   ],
   "source": [
    "\n",
    "# Install TA-Lib https://medium.com/pythons-gurus/how-to-properly-install-ta-lib-on-windows-11-for-python-a-step-by-step-guide-13ebb684f4a6\n",
    "\n",
    "import pandas_ta as pta\n",
    "import talib as ta\n",
    "# help(ta.aberration)\n",
    "help(pta.cci)"
   ]
  },
  {
   "cell_type": "code",
   "execution_count": 14,
   "metadata": {},
   "outputs": [],
   "source": [
    "MyStrategy = pta.Strategy(\n",
    "    name=\"xxx\",\n",
    "    ta=[\n",
    "        {\"kind\": \"ohlc4\"},\n",
    "        {\"kind\": \"sma\", \"length\": 10}\n",
    "    ]\n",
    ")"
   ]
  },
  {
   "cell_type": "code",
   "execution_count": 18,
   "metadata": {},
   "outputs": [
    {
     "name": "stderr",
     "output_type": "stream",
     "text": [
      "[*********************100%***********************]  1 of 1 completed"
     ]
    },
    {
     "name": "stdout",
     "output_type": "stream",
     "text": [
      "Price                            Open        High         Low       Close  \\\n",
      "Date                                                                        \n",
      "2024-01-02 00:00:00+00:00  187.149994  188.440002  180.169998  181.179993   \n",
      "2024-01-07 00:00:00+00:00  182.089996  187.050003  181.500000  185.589996   \n",
      "2024-01-12 00:00:00+00:00  186.059998  186.740005  180.929993  183.630005   \n",
      "2024-01-17 00:00:00+00:00  181.270004  191.949997  180.300003  191.559998   \n",
      "2024-01-22 00:00:00+00:00  192.300003  196.380005  191.940002  192.419998   \n",
      "\n",
      "Price                         Volume  \n",
      "Date                                  \n",
      "2024-01-02 00:00:00+00:00  275190100  \n",
      "2024-01-07 00:00:00+00:00  197907600  \n",
      "2024-01-12 00:00:00+00:00  106047700  \n",
      "2024-01-17 00:00:00+00:00  194064200  \n",
      "2024-01-22 00:00:00+00:00  255536900  \n"
     ]
    },
    {
     "name": "stderr",
     "output_type": "stream",
     "text": [
      "\n"
     ]
    }
   ],
   "source": [
    "import yfinance as yf\n",
    "import pandas as pd\n",
    "import matplotlib.pyplot as plt\n",
    "\n",
    "# Define the ticker symbol and interval\n",
    "ticker = \"AAPL\"\n",
    "\n",
    "data = yf.download(ticker, interval=\"1d\", start=\"2024-01-01\", end=\"2024-10-01\")\n",
    "# Resample data to create K-line intervals, for example, every 5 days\n",
    "data.columns = data.columns.droplevel(\"Ticker\")\n",
    "data.columns\n",
    "k_interval = '5D'\n",
    "k_line_data = data.resample(k_interval).agg({\n",
    "    'Open': 'first',\n",
    "    'High': 'max',\n",
    "    'Low': 'min',\n",
    "    'Close': 'last',\n",
    "    'Volume': 'sum'\n",
    "})\n",
    "print(k_line_data.head())"
   ]
  },
  {
   "cell_type": "code",
   "execution_count": 16,
   "metadata": {},
   "outputs": [],
   "source": [
    "data[\"DragonflyDoji\"] = ta.CDLDRAGONFLYDOJI(\n",
    "    k_line_data['Open'], \n",
    "    k_line_data['High'], \n",
    "    k_line_data['Low'], \n",
    "    k_line_data['Close']\n",
    ")"
   ]
  },
  {
   "cell_type": "code",
   "execution_count": 20,
   "metadata": {},
   "outputs": [
    {
     "name": "stderr",
     "output_type": "stream",
     "text": [
      "c:\\Users\\wattx\\Documents\\Stock\\stock_analysis\\venv\\Lib\\site-packages\\vectorbt\\generic\\stats_builder.py:396: UserWarning: Metric 'sharpe_ratio' requires frequency to be set\n",
      "  warnings.warn(warning_message)\n",
      "c:\\Users\\wattx\\Documents\\Stock\\stock_analysis\\venv\\Lib\\site-packages\\vectorbt\\generic\\stats_builder.py:396: UserWarning: Metric 'calmar_ratio' requires frequency to be set\n",
      "  warnings.warn(warning_message)\n",
      "c:\\Users\\wattx\\Documents\\Stock\\stock_analysis\\venv\\Lib\\site-packages\\vectorbt\\generic\\stats_builder.py:396: UserWarning: Metric 'omega_ratio' requires frequency to be set\n",
      "  warnings.warn(warning_message)\n",
      "c:\\Users\\wattx\\Documents\\Stock\\stock_analysis\\venv\\Lib\\site-packages\\vectorbt\\generic\\stats_builder.py:396: UserWarning: Metric 'sortino_ratio' requires frequency to be set\n",
      "  warnings.warn(warning_message)\n"
     ]
    },
    {
     "name": "stdout",
     "output_type": "stream",
     "text": [
      "Start                         2024-01-02 00:00:00+00:00\n",
      "End                           2024-09-30 00:00:00+00:00\n",
      "Period                                              188\n",
      "Start Value                                       100.0\n",
      "End Value                                     119.79718\n",
      "Total Return [%]                               19.79718\n",
      "Benchmark Return [%]                          25.511744\n",
      "Max Gross Exposure [%]                            100.0\n",
      "Total Fees Paid                                     0.0\n",
      "Max Drawdown [%]                              13.941478\n",
      "Max Drawdown Duration                              78.0\n",
      "Total Trades                                          2\n",
      "Total Closed Trades                                   2\n",
      "Total Open Trades                                     0\n",
      "Open Trade PnL                                      0.0\n",
      "Win Rate [%]                                      100.0\n",
      "Best Trade [%]                                18.823352\n",
      "Worst Trade [%]                                 0.81956\n",
      "Avg Winning Trade [%]                          9.821456\n",
      "Avg Losing Trade [%]                                NaN\n",
      "Avg Winning Trade Duration                         57.5\n",
      "Avg Losing Trade Duration                           NaN\n",
      "Profit Factor                                       inf\n",
      "Expectancy                                      9.89859\n",
      "dtype: object\n"
     ]
    }
   ],
   "source": [
    "# backtest vectorbt\n",
    "import vectorbt as vbt\n",
    "\n",
    "hammer = ta.CDLHAMMER(data.Open, data.High, data.Low, data.Close)\n",
    "hanging_man = ta.CDLHANGINGMAN(data.Open, data.High, data.Low, data.Close)\n",
    "buys = (hammer ==100)\n",
    "sells = (hanging_man == -100)\n",
    "pf = vbt.Portfolio.from_signals(data.Close, buys, sells)\n",
    "print(pf.stats())\n",
    "\n"
   ]
  }
 ],
 "metadata": {
  "kernelspec": {
   "display_name": "venv",
   "language": "python",
   "name": "python3"
  },
  "language_info": {
   "codemirror_mode": {
    "name": "ipython",
    "version": 3
   },
   "file_extension": ".py",
   "mimetype": "text/x-python",
   "name": "python",
   "nbconvert_exporter": "python",
   "pygments_lexer": "ipython3",
   "version": "3.12.1"
  }
 },
 "nbformat": 4,
 "nbformat_minor": 2
}
